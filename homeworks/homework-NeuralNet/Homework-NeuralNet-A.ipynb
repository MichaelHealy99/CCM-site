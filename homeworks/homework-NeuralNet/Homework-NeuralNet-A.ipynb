{
 "cells": [
  {
   "cell_type": "markdown",
   "metadata": {},
   "source": [
    "# Homework - Neural networks - Part A (35 points)\n",
    "\n",
    "## Interactive activation and competition"
   ]
  },
  {
   "cell_type": "markdown",
   "metadata": {},
   "source": [
    "by *Brenden Lake* and *Todd Gureckis*  \n",
    "Computational Cognitive Modeling  \n",
    "NYU class webpage: https://brendenlake.github.io/CCM-site/  "
   ]
  },
  {
   "cell_type": "markdown",
   "metadata": {},
   "source": [
    "<div class=\"alert alert-danger\" role=\"alert\">\n",
    "This homework is due before midnight on Monday, Feb. 13, 2023.\n",
    "</div>"
   ]
  },
  {
   "cell_type": "markdown",
   "metadata": {},
   "source": [
    "<div class=\"alert alert-warning\" role=\"alert\">\n",
    "  <strong>Note:</strong><br> \n",
    "    Please complete the responses to these questions as a markdown cell inserted beneath the question prompts.\n",
    "</div>\n"
   ]
  },
  {
   "cell_type": "markdown",
   "metadata": {},
   "source": [
    "In this assignment, you will get hands on experience with a classic neural network model of memory known as the Interactive Activation and Competition (IAC) model. We will go through a series of exercises that will stretch your understanding of the IAC model in various ways. The exercises below examine how the mechanisms of interactive activation and competition can be used to illustrate two key properties of human memory:\n",
    "- Retrieval by name and by content.\n",
    "- Spontaneous generalization over a set of familiar items."
   ]
  },
  {
   "cell_type": "markdown",
   "metadata": {},
   "source": [
    "<div class=\"alert alert-info\">\n",
    "These exercises are from Chapter 2 of the <a href=\"https://web.stanford.edu/group/pdplab/pdphandbook/\">online PDP Handbook</a> by James McClelland.\n",
    "</div>\n",
    "\n"
   ]
  },
  {
   "cell_type": "markdown",
   "metadata": {},
   "source": [
    "**You should review the slides from lecture and read Section 2.1 of the PDP Handbook before continuing. This has important background and technical details on how the IAC model works.** The IAC model instantiates knowledge that someone may have from watching the 1960s musical “West Side Story,” where two gangs the “Jets” and “Sharks” struggle for neighborhood control in Manhattan. The “database” for this exercise is the Jets and Sharks data base shown in Figure 1, which has the central characters from the two gangs. You are to use the IAC model in conjunction with this data base to run illustrative simulations of these basic properties of memory.\n",
    "\n",
    "<img src=\"images/jetsandsharkstable.png\" width=\"400\">\n",
    "\n",
    "*Figure 1: Characteristics of a number of individuals belonging to two gangs, the Jets and the Sharks. (From “Retrieving General and Specific Knowledge From Stored Knowledge of Specifics” by J. L. McClelland, 1981, Proceedings of the Third Annual Conference of the Cognitive Science Society.)*"
   ]
  },
  {
   "cell_type": "markdown",
   "metadata": {},
   "source": [
    "## Software and architecture"
   ]
  },
  {
   "cell_type": "markdown",
   "metadata": {},
   "source": [
    "We will be using IAC software from Axel Cleeremans which you can download [here for Mac OS](https://cims.nyu.edu/~brenden/software/IAC11final.app.zip) and [here for Windows](https://cims.nyu.edu/~brenden/software/IACwindows64.zip). \n",
    "\n",
    "<img src=\"images/ss1.png\" width=\"400\">\n",
    "\n",
    "*Figure 2: Screen shot from Cleeremans’ IAC software. Units are organized into 7 groups. For illustration here, all groups have a different color background, while the group of visible name units have no background.*\n",
    "\n",
    "Upon downloading and loading the software, you will see a display that looks like Figure 2. The units are grouped into seven pools: a pool of _visible_ name units, a pool of _gang_ units, a pool of _age_ units, a pool of _education_ units, a pool of _marital status_ units, a pool of _occupation_ units, and a pool of _hidden_ units. The name pool contains a unit for the name of each person; the gang pool contains a unit for each of the gangs the people are members of (Jets and Sharks); the age pool contains a unit for each age range; and so on. Finally, the _hidden_ pool contains an instance unit for each individual in the set.\n",
    "\n",
    "The units in the first six pools can be called visible units, since all are assumed to be accessible from outside the network. Those in the gang, age, education, marital status, and occupation pools can also be called property units. The instance units are assumed to be inaccessible, so they can be called hidden units.\n",
    "\n",
    "\n",
    "<img src=\"images/jetsdiagram.png\" width=\"400\">\n",
    "\n",
    "*Figure 3: The units and connections for some of the individuals in Figure 1. The arrows represent excitatory connections. The outlined groups of units have mutually inhibitory connections (not shown). (From “Retrieving General and Specific Knowl- edge From Stored Knowledge of Specifics” by J. L. McClelland, 1981, Proceedings of the Third Annual Conference of the Cognitive Science Society.)*\n",
    "\n",
    "\n",
    "\n",
    "\n",
    "Each unit has an inhibitory connection to every other unit in the same pool. In addition, there are two-way excitatory connections between each instance unit and the units for its properties, as illustrated in Figure 3. Note that the figure is incomplete, in that only some of the name and instance units are shown. These names are given only for the convenience of the user, of course; all actual computation in the network occurs only by way of the connections. You can also view the different connections using the IAC software by hovering your mouse over a particular unit (Figure 4).\n",
    "\n",
    "<img src=\"images/ss2.png\" width=\"400\">\n",
    "\n",
    "*Figure 4: You can view the connections to a unit by placing your mouse over it. Green connections are excitatory and red connections are inhibitory.*\n",
    "\n",
    "\n",
    "\n",
    "Since everything is set up for you, you are now ready to do each of the separate parts of the exercise. Each part is accomplished by using the interactive activation and competition process to do pattern completion, given some probe that is presented to the network. For example, to retrieve an individual’s properties from his name, you simply provide external input to his name unit, then allow the IAC network to propagate activation first to the name unit, then from there to the instance units, and from there to the units for the properties of the instance."
   ]
  },
  {
   "cell_type": "markdown",
   "metadata": {},
   "source": [
    "## Exercise: Retreiving an individual from his name"
   ]
  },
  {
   "cell_type": "markdown",
   "metadata": {},
   "source": [
    "To illustrate retrieval of the properties of an individual from his name, we will use Ken as our example. Make sure the simulation is paused (press SPACE) and press ‘r’ to reset it. Set the external input of Ken’s name unit to 1 by clicking on the name unit (not the hidden unit!). The circle’s background should turn bright green to represent the external input.\n",
    "\n",
    "A unit’s activity level can be visualized by the colored dot, where yellow dots are positive activation and red dots are negative activation. The larger the yellow dot, the stronger the activation. A unit’s precise activity level can examined by rolling the mouse over the unit.\n",
    "\n",
    "<img src=\"images/ss3.png\" width=\"400\">\n",
    "\n",
    "*Figure 5: The display screen after about 150 cycles with external input to the name unit for Ken.*\n",
    "\n",
    "\n",
    "\n",
    "Press SPACE to unpause and allow the network to run for approximately 150 cycles (the cycle counter is in the bottom left of the panel). The simulation runs quickly, so be sure to pause at about 150 cycles exactly! A picture of the screen after 150 cycles is shown in Figure 5. At this point, you can check to see that the model has indeed retrieved the pattern for Ken correctly. There are also several other things going on that are worth understanding. Answer all of the following questions below regarding the network at this state (you’ll have to refer to the properties of the individuals, as given in Figure 1)."
   ]
  },
  {
   "cell_type": "markdown",
   "metadata": {},
   "source": [
    "<div class=\"alert alert-success\" role=\"alert\">\n",
    "  <strong>Problem 1 (10 points)</strong> <br>\n",
    "  None of the visible name units other than Ken were activated, yet a few other hidden instance units are active (i.e., their activation is greater than 0). Explain why these units are active. Keep your response short (about 3 sentences).\n",
    "</div>"
   ]
  },
  {
   "attachments": {},
   "cell_type": "markdown",
   "metadata": {},
   "source": [
    "In terms of programming, I would imagine the slight activation of a few non-Ken hidden instances are because they are his nearest neighbors in terms of defined characteristics. As the name node is activated, it then activates the hidden Ken node, which then back-propogates into all his characteristics before propogating back to the hidden node. As the properties of Ken connected by his hidden layer are activated going forward in a cycle, it will also at least minorly activate the hidden nodes of gang members who share most of his characteristics, whereas others who have fewer simularities have their activation stiffled by the negative activation of their dissimilar characteristics."
   ]
  },
  {
   "cell_type": "markdown",
   "metadata": {},
   "source": [
    "<div class=\"alert alert-success\" role=\"alert\">\n",
    "  <strong>Problem 2 (10 points)</strong> <br>\n",
    "  Some of Ken’s properties are activated more strongly than others. Why? Keep your response short (about 3 sentences).\n",
    "</div>"
   ]
  },
  {
   "attachments": {},
   "cell_type": "markdown",
   "metadata": {},
   "source": [
    "I believe after reviewing the similarities of Ken with the two other similar people, Nick and Neal, that the properties less strongly activated are those that Ken does not share with Nick and Neal. As the network cycles and Nick and Neal's hidden nodes are slightly activated and back-propagate that weak signal, the properties of those two that aren't shared by Ken are also slightly activated, and they are inhibitory to the actual properties of Ken. On the otherhand, the other stronger property activations are being excited by all the back-propagated signals from Ken, Nick, and Neal since they share those properties."
   ]
  },
  {
   "cell_type": "markdown",
   "metadata": {},
   "source": [
    "## Retrieval from a partial description"
   ]
  },
  {
   "cell_type": "markdown",
   "metadata": {},
   "source": [
    "Next, we will use the IAC software to illustrate how it can retrieve an instance from a partial description of its properties. We will continue to use Ken, who, as it happens, can be uniquely described by two properties, Shark and in20s. Reset the network (‘r’) and make sure everything is paused and that all units have input of 0. Click to set the external input of the Sharks unit and the in20s unit to 1.00. Run a total of 150 cycles again, and take a look at the state of the network.\n",
    "\n",
    "Of all of the visible name units, Ken’s name should be the most active. Compare the state of the network’s with the a screen shot of the previous network state when activating Ken’s name directly, such as that in Figure 5."
   ]
  },
  {
   "cell_type": "markdown",
   "metadata": {},
   "source": [
    "<div class=\"alert alert-success\" role=\"alert\">\n",
    "  <strong>Problem 3 (10 points)</strong> <br>\n",
    "  Explain why the occupation units show partial activations of units other than Ken’s occupation, which is Burglar. While being succinct, try to get to the bottom of this, and contrast the current case with the previous case. Keep your response short (about 3 sentences).\n",
    "\n",
    "</div>"
   ]
  },
  {
   "attachments": {},
   "cell_type": "markdown",
   "metadata": {},
   "source": [
    "Whereas before the visible name node had a direct connection to the hidden node probably with an extremely large weight since they are directly correlated, activating specific property nodes does not strongly control the activation or inhibition of other properties and leaves them to be activated by back-propagation. Beforehand the Nick and Neal nodes were also being activated do to their similarities, and the characteristics they didn't share with Ken inhibited the signal of those properties. \"Age\" was one of them, but 'in20s' already has a max activation for that property, so the other dissimilar property- \"Occupation\"- shows that as the network is cycled through, the occupation nodes of those similar to Ken are activated, which then cause those similar to Nick and Neal to activate slightly and excite the signal on further cycles, inhibiting Ken's true occupation as a 'Burglar' slightly."
   ]
  },
  {
   "cell_type": "markdown",
   "metadata": {},
   "source": [
    "## Spontaneous generalization"
   ]
  },
  {
   "cell_type": "markdown",
   "metadata": {},
   "source": [
    "Now we consider the network’s ability to retrieve appropriate generalizations over sets of individuals—that is, its ability to answer questions like “What are Jets like?” or “What are people who are in their 20s and have only a junior high education like?” Reset (‘r’) the network. Make sure all units have input of 0 and none are highlighted green.\n",
    "\n",
    "Set the external input of Jets to 1.00 by clicking on it. Run the network for 150 cycles and observe what happens."
   ]
  },
  {
   "cell_type": "markdown",
   "metadata": {},
   "source": [
    "<div class=\"alert alert-success\" role=\"alert\">\n",
    "  <strong>Problem 4 (5 points)</strong> <br>\n",
    "  Given the network’s state, what can you infer about a typical Jet? (1-2 sentences is plenty).\n",
    "</div>"
   ]
  },
  {
   "attachments": {},
   "cell_type": "markdown",
   "metadata": {},
   "source": [
    "While there seems to be an even three-way split in their occupations given they are all equally activated after 150 cycles, the typical Jet seems to be in their 20s, has Junior High School education, and is Single."
   ]
  },
  {
   "cell_type": "markdown",
   "metadata": {},
   "source": []
  }
 ],
 "metadata": {
  "kernelspec": {
   "display_name": "base",
   "language": "python",
   "name": "python3"
  },
  "language_info": {
   "codemirror_mode": {
    "name": "ipython",
    "version": 3
   },
   "file_extension": ".py",
   "mimetype": "text/x-python",
   "name": "python",
   "nbconvert_exporter": "python",
   "pygments_lexer": "ipython3",
   "version": "3.9.13 (main, Oct 13 2022, 21:23:06) [MSC v.1916 64 bit (AMD64)]"
  },
  "vscode": {
   "interpreter": {
    "hash": "569f545527bfb29d6fb9aacc607f33a145e1de933e11224bb20d6923ac7349a0"
   }
  }
 },
 "nbformat": 4,
 "nbformat_minor": 2
}
